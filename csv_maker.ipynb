{
 "cells": [
  {
   "cell_type": "code",
   "execution_count": 1,
   "metadata": {},
   "outputs": [
    {
     "name": "stderr",
     "output_type": "stream",
     "text": [
      "/opt/anaconda/3-5.2.0/lib/python3.6/site-packages/h5py/__init__.py:36: FutureWarning: Conversion of the second argument of issubdtype from `float` to `np.floating` is deprecated. In future, it will be treated as `np.float64 == np.dtype(float).type`.\n",
      "  from ._conv import register_converters as _register_converters\n"
     ]
    },
    {
     "name": "stdout",
     "output_type": "stream",
     "text": [
      "99.999999999999994\r"
     ]
    }
   ],
   "source": [
    "import os\n",
    "import h5py\n",
    "import numpy as np\n",
    "import pandas as pd\n",
    "from collections import defaultdict\n",
    "import time\n",
    "\n",
    "\n",
    "DIR = '/data/cvrepo/loyalty-cohort-tensors/2020-04-24/'\n",
    "paths = [os.path.join(DIR, f) for f in os.listdir(DIR)][:1000]\n",
    "\n",
    "\n",
    "table = []\n",
    "now = time.time()\n",
    "for i, path in enumerate(paths):\n",
    "    print(i / len(paths) * 100, end='\\r')\n",
    "    with h5py.File(path, 'r') as hd5:\n",
    "        for file_type in hd5.keys():\n",
    "            for instance in hd5[file_type].keys():\n",
    "                for data_type in hd5[file_type][instance].keys():\n",
    "                    table.append({\n",
    "                        'path': path,\n",
    "                        'instance': instance,\n",
    "                        'data_type': data_type,\n",
    "                        'value': hd5[file_type][instance][data_type][()],\n",
    "                    })\n",
    "df = pd.DataFrame(table)"
   ]
  },
  {
   "cell_type": "code",
   "execution_count": null,
   "metadata": {},
   "outputs": [
    {
     "name": "stdout",
     "output_type": "stream",
     "text": [
      "19444.282736063004 seconds elapsed\n"
     ]
    }
   ],
   "source": [
    "print(time.time() - now, 'seconds elapsed')\n",
    "df.to_csv('/data/arrhythmia/skhurshid/flat_files/loyalty_cohort_hf_test.csv', index=False)"
   ]
  },
  {
   "cell_type": "code",
   "execution_count": null,
   "metadata": {},
   "outputs": [],
   "source": []
  }
 ],
 "metadata": {
  "kernelspec": {
   "display_name": "Python3.6 (Anaconda5.2.0)",
   "language": "python",
   "name": "python3.6_anaconda5.2.0"
  },
  "language_info": {
   "codemirror_mode": {
    "name": "ipython",
    "version": 3
   },
   "file_extension": ".py",
   "mimetype": "text/x-python",
   "name": "python",
   "nbconvert_exporter": "python",
   "pygments_lexer": "ipython3",
   "version": "3.6.5"
  }
 },
 "nbformat": 4,
 "nbformat_minor": 2
}
